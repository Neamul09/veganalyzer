{
 "cells": [
  {
   "cell_type": "code",
   "execution_count": 20,
   "id": "0e9f7628-10ad-4725-921e-2413044a8661",
   "metadata": {},
   "outputs": [],
   "source": [
    "import requests\n",
    "import pandas as pd\n",
    "from pytrends.request import TrendReq\n",
    "import gradio as gr\n",
    "import joblib\n",
    "import datetime\n",
    "\n",
    "# Load trained model\n",
    "model = joblib.load(\"random_forest_model.pkl\")  # or use \"xgboost_model.joblib\"\n",
    "\n",
    "# Weather API info\n",
    "WEATHER_API_KEY = \"b607e1bfddef4d9f8e4192237251607\"\n",
    "WEATHER_API_URL = f\"http://api.weatherapi.com/v1/current.json?q=Dhaka&key={WEATHER_API_KEY}\"\n"
   ]
  },
  {
   "cell_type": "code",
   "execution_count": 21,
   "id": "c937810f-cf59-4873-9ca9-378ab45010cf",
   "metadata": {},
   "outputs": [],
   "source": [
    "def get_weather_data():\n",
    "    response = requests.get(WEATHER_API_URL)\n",
    "    data = response.json()\n",
    "    \n",
    "    temp = data['current']['temp_c']\n",
    "    humidity = data['current']['humidity']\n",
    "    rainfall = data['current'].get('precip_mm', 0.0)\n",
    "    \n",
    "    return temp, humidity, rainfall\n"
   ]
  },
  {
   "cell_type": "code",
   "execution_count": 22,
   "id": "11b61005-3b5f-4ad8-aa0e-a336dfc79b1e",
   "metadata": {},
   "outputs": [],
   "source": [
    "def get_trend_scores():\n",
    "    pytrends = TrendReq(hl='en-US', tz=360)\n",
    "    keywords = [\"onion\", \"পেঁয়াজ\"]\n",
    "    \n",
    "    pytrends.build_payload(keywords, cat=0, timeframe='now 7-d', geo='BD')\n",
    "    trend_df = pytrends.interest_over_time()\n",
    "    \n",
    "    if not trend_df.empty:\n",
    "        trend_score_onion = trend_df[\"onion\"].iloc[-1]\n",
    "        trend_score_peyaj = trend_df[\"পেঁয়াজ\"].iloc[-1]\n",
    "    else:\n",
    "        trend_score_onion = 50  # fallback values\n",
    "        trend_score_peyaj = 50\n",
    "    \n",
    "    return trend_score_onion, trend_score_peyaj\n"
   ]
  },
  {
   "cell_type": "code",
   "execution_count": 23,
   "id": "c2023765-faef-4741-9ac3-7eaf09a695d1",
   "metadata": {},
   "outputs": [],
   "source": [
    "def build_features():\n",
    "    temp, humidity, rainfall = get_weather_data()\n",
    "    trend_score_onion, trend_score_peyaj = get_trend_scores()\n",
    "\n",
    "    rain_flag = 1 if rainfall > 0.5 else 0\n",
    "    humidity_diff = 0\n",
    "    temp_lag = temp\n",
    "    rain_3day_sum = rainfall * 3  # crude estimate\n",
    "\n",
    "    features = {\n",
    "        \"temp\": temp,\n",
    "        \"humidity\": humidity,\n",
    "        \"rainfall\": rainfall,\n",
    "        \"rain_3day_sum\": rain_3day_sum,\n",
    "        \"rain_flag\": rain_flag,\n",
    "        \"humidity_diff\": humidity_diff,\n",
    "        \"temp_lag\": temp_lag,\n",
    "        \"trend_score_onion\": trend_score_onion,\n",
    "        \"trend_score_পেঁয়াজ\": trend_score_peyaj,\n",
    "        \"trend_score_পেঁয়াজ_lag1\": trend_score_peyaj,\n",
    "        \"trend_score_পেঁয়াজ_avg3\": trend_score_peyaj,\n",
    "        \"trend_score_পেঁয়াজ_spike\": 0,\n",
    "        \"trend_score_onion_lag1\": trend_score_onion,\n",
    "        \"trend_score_onion_avg3\": trend_score_onion,\n",
    "        \"trend_score_onion_spike\": 0\n",
    "    }\n",
    "\n",
    "    # Convert to DataFrame\n",
    "    df = pd.DataFrame([features])\n",
    "\n",
    "    # Ensure column order matches training\n",
    "    feature_columns = joblib.load(\"model_features.joblib\")\n",
    "    df = df[feature_columns]\n",
    "\n",
    "    return df\n"
   ]
  },
  {
   "cell_type": "code",
   "execution_count": 24,
   "id": "249015c7-9cdb-4ef3-a121-a730b4b666da",
   "metadata": {},
   "outputs": [],
   "source": [
    "def predict_price():\n",
    "    try:\n",
    "        input_df = build_features()\n",
    "        prediction = model.predict(input_df)[0]\n",
    "        return f\"📈 Predicted Onion Avg Price: {prediction:.2f} BDT\"\n",
    "    except Exception as e:\n",
    "        return f\"❌ Error: {str(e)}\"\n"
   ]
  },
  {
   "cell_type": "code",
   "execution_count": 25,
   "id": "251b4afc-50ac-46f4-a06d-d4038e59b713",
   "metadata": {},
   "outputs": [
    {
     "name": "stdout",
     "output_type": "stream",
     "text": [
      "* Running on local URL:  http://127.0.0.1:7865\n",
      "* To create a public link, set `share=True` in `launch()`.\n"
     ]
    },
    {
     "data": {
      "text/html": [
       "<div><iframe src=\"http://127.0.0.1:7865/\" width=\"100%\" height=\"500\" allow=\"autoplay; camera; microphone; clipboard-read; clipboard-write;\" frameborder=\"0\" allowfullscreen></iframe></div>"
      ],
      "text/plain": [
       "<IPython.core.display.HTML object>"
      ]
     },
     "metadata": {},
     "output_type": "display_data"
    },
    {
     "data": {
      "text/plain": []
     },
     "execution_count": 25,
     "metadata": {},
     "output_type": "execute_result"
    },
    {
     "name": "stderr",
     "output_type": "stream",
     "text": [
      "C:\\Users\\bright_\\anaconda3\\Lib\\site-packages\\pytrends\\request.py:260: FutureWarning: Downcasting object dtype arrays on .fillna, .ffill, .bfill is deprecated and will change in a future version. Call result.infer_objects(copy=False) instead. To opt-in to the future behavior, set `pd.set_option('future.no_silent_downcasting', True)`\n",
      "  df = df.fillna(False)\n"
     ]
    }
   ],
   "source": [
    "gr.Interface(\n",
    "    fn=predict_price,\n",
    "    inputs=[],\n",
    "    outputs=\"text\",\n",
    "    title=\"📊 Onion Price Predictor (Dhaka)\",\n",
    "    description=\"Fetches live weather and Google Trends data to forecast the average price of onions in Dhaka.\"\n",
    ").launch()\n"
   ]
  },
  {
   "cell_type": "code",
   "execution_count": null,
   "id": "4f90d8ff-98f7-4bbc-8699-0e417b3933ba",
   "metadata": {},
   "outputs": [],
   "source": []
  }
 ],
 "metadata": {
  "kernelspec": {
   "display_name": "Python 3 (ipykernel)",
   "language": "python",
   "name": "python3"
  },
  "language_info": {
   "codemirror_mode": {
    "name": "ipython",
    "version": 3
   },
   "file_extension": ".py",
   "mimetype": "text/x-python",
   "name": "python",
   "nbconvert_exporter": "python",
   "pygments_lexer": "ipython3",
   "version": "3.13.5"
  }
 },
 "nbformat": 4,
 "nbformat_minor": 5
}
